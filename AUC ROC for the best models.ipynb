{
 "cells": [
  {
   "cell_type": "markdown",
   "metadata": {},
   "source": [
    "# Compute AUC ROC for the best model\n",
    "Based on https://scikit-learn.org/stable/auto_examples/model_selection/plot_roc_crossval.html#sphx-glr-auto-examples-model-selection-plot-roc-crossval-py"
   ]
  },
  {
   "cell_type": "code",
   "execution_count": 1,
   "metadata": {},
   "outputs": [],
   "source": [
    "import numpy as np\n",
    "import pandas as pd\n",
    "import os\n",
    "from sklearn.metrics import roc_curve\n",
    "from sklearn.metrics import roc_auc_score\n",
    "from sklearn.metrics import auc\n",
    "from sklearn.metrics import accuracy_score\n",
    "from scipy import interp\n",
    "import matplotlib.pyplot as plt\n",
    "from matplotlib import rcParams\n",
    "%matplotlib inline"
   ]
  },
  {
   "cell_type": "code",
   "execution_count": 2,
   "metadata": {},
   "outputs": [],
   "source": [
    "rcParams.update({'font.size': 18})\n",
    "colors = ['#222a20', '#e6c138', '#869336',  '#44472f', '#eef9c8']"
   ]
  },
  {
   "cell_type": "code",
   "execution_count": 15,
   "metadata": {},
   "outputs": [],
   "source": [
    "# Get all results files\n",
    "files_name = 'both'\n",
    "path_data = '/home/om18/Documents/KCL/May 10 19 - Classifying the DIPs/results/'\n",
    "files = os.listdir(path_data)\n",
    "files= [i for i in files if files_name in i]"
   ]
  },
  {
   "cell_type": "code",
   "execution_count": 16,
   "metadata": {},
   "outputs": [
    {
     "data": {
      "text/html": [
       "<div>\n",
       "<style scoped>\n",
       "    .dataframe tbody tr th:only-of-type {\n",
       "        vertical-align: middle;\n",
       "    }\n",
       "\n",
       "    .dataframe tbody tr th {\n",
       "        vertical-align: top;\n",
       "    }\n",
       "\n",
       "    .dataframe thead th {\n",
       "        text-align: right;\n",
       "    }\n",
       "</style>\n",
       "<table border=\"1\" class=\"dataframe\">\n",
       "  <thead>\n",
       "    <tr style=\"text-align: right;\">\n",
       "      <th></th>\n",
       "      <th>train_loss_0</th>\n",
       "      <th>val_loss_0</th>\n",
       "      <th>train_accuracy_0</th>\n",
       "      <th>val_accuracy_0</th>\n",
       "      <th>train_pred_proba0</th>\n",
       "      <th>y_train_set_0</th>\n",
       "      <th>val_pred_proba0</th>\n",
       "      <th>y_val_set_0</th>\n",
       "      <th>best_val_loss_0</th>\n",
       "      <th>best_val_acc_0</th>\n",
       "      <th>...</th>\n",
       "      <th>train_pred_proba4</th>\n",
       "      <th>y_train_set_4</th>\n",
       "      <th>val_pred_proba4</th>\n",
       "      <th>y_val_set_4</th>\n",
       "      <th>best_val_loss_4</th>\n",
       "      <th>best_val_acc_4</th>\n",
       "      <th>test_pred_proba4</th>\n",
       "      <th>prediction_test_set_4</th>\n",
       "      <th>y_test_set_4</th>\n",
       "      <th>accuracy_test_4</th>\n",
       "    </tr>\n",
       "  </thead>\n",
       "  <tbody>\n",
       "    <tr>\n",
       "      <th>0</th>\n",
       "      <td>6.377833</td>\n",
       "      <td>0.693788</td>\n",
       "      <td>48.717949</td>\n",
       "      <td>48.275862</td>\n",
       "      <td>0.754949</td>\n",
       "      <td>1.0</td>\n",
       "      <td>0.621844</td>\n",
       "      <td>1.0</td>\n",
       "      <td>0.682668</td>\n",
       "      <td>55.172414</td>\n",
       "      <td>...</td>\n",
       "      <td>0.370317</td>\n",
       "      <td>0.0</td>\n",
       "      <td>0.136471</td>\n",
       "      <td>0.0</td>\n",
       "      <td>0.561112</td>\n",
       "      <td>65.517241</td>\n",
       "      <td>0.757950</td>\n",
       "      <td>1.0</td>\n",
       "      <td>1.0</td>\n",
       "      <td>53.333333</td>\n",
       "    </tr>\n",
       "    <tr>\n",
       "      <th>1</th>\n",
       "      <td>5.700890</td>\n",
       "      <td>0.696578</td>\n",
       "      <td>54.700855</td>\n",
       "      <td>48.275862</td>\n",
       "      <td>0.315015</td>\n",
       "      <td>1.0</td>\n",
       "      <td>0.453296</td>\n",
       "      <td>1.0</td>\n",
       "      <td>NaN</td>\n",
       "      <td>NaN</td>\n",
       "      <td>...</td>\n",
       "      <td>0.263937</td>\n",
       "      <td>0.0</td>\n",
       "      <td>0.404537</td>\n",
       "      <td>0.0</td>\n",
       "      <td>NaN</td>\n",
       "      <td>NaN</td>\n",
       "      <td>0.494100</td>\n",
       "      <td>0.0</td>\n",
       "      <td>0.0</td>\n",
       "      <td>NaN</td>\n",
       "    </tr>\n",
       "    <tr>\n",
       "      <th>2</th>\n",
       "      <td>5.425036</td>\n",
       "      <td>0.704571</td>\n",
       "      <td>62.820513</td>\n",
       "      <td>48.275862</td>\n",
       "      <td>0.908146</td>\n",
       "      <td>1.0</td>\n",
       "      <td>0.490143</td>\n",
       "      <td>1.0</td>\n",
       "      <td>NaN</td>\n",
       "      <td>NaN</td>\n",
       "      <td>...</td>\n",
       "      <td>0.372421</td>\n",
       "      <td>0.0</td>\n",
       "      <td>0.797292</td>\n",
       "      <td>1.0</td>\n",
       "      <td>NaN</td>\n",
       "      <td>NaN</td>\n",
       "      <td>0.241051</td>\n",
       "      <td>0.0</td>\n",
       "      <td>1.0</td>\n",
       "      <td>NaN</td>\n",
       "    </tr>\n",
       "    <tr>\n",
       "      <th>3</th>\n",
       "      <td>4.975713</td>\n",
       "      <td>0.719517</td>\n",
       "      <td>66.239316</td>\n",
       "      <td>48.275862</td>\n",
       "      <td>0.102976</td>\n",
       "      <td>0.0</td>\n",
       "      <td>0.742321</td>\n",
       "      <td>1.0</td>\n",
       "      <td>NaN</td>\n",
       "      <td>NaN</td>\n",
       "      <td>...</td>\n",
       "      <td>0.418550</td>\n",
       "      <td>1.0</td>\n",
       "      <td>0.553849</td>\n",
       "      <td>0.0</td>\n",
       "      <td>NaN</td>\n",
       "      <td>NaN</td>\n",
       "      <td>0.600326</td>\n",
       "      <td>1.0</td>\n",
       "      <td>1.0</td>\n",
       "      <td>NaN</td>\n",
       "    </tr>\n",
       "    <tr>\n",
       "      <th>4</th>\n",
       "      <td>5.192814</td>\n",
       "      <td>0.718537</td>\n",
       "      <td>60.256410</td>\n",
       "      <td>48.275862</td>\n",
       "      <td>0.719364</td>\n",
       "      <td>0.0</td>\n",
       "      <td>0.168684</td>\n",
       "      <td>0.0</td>\n",
       "      <td>NaN</td>\n",
       "      <td>NaN</td>\n",
       "      <td>...</td>\n",
       "      <td>0.234479</td>\n",
       "      <td>0.0</td>\n",
       "      <td>0.840233</td>\n",
       "      <td>1.0</td>\n",
       "      <td>NaN</td>\n",
       "      <td>NaN</td>\n",
       "      <td>0.404395</td>\n",
       "      <td>0.0</td>\n",
       "      <td>1.0</td>\n",
       "      <td>NaN</td>\n",
       "    </tr>\n",
       "  </tbody>\n",
       "</table>\n",
       "<p>5 rows × 70 columns</p>\n",
       "</div>"
      ],
      "text/plain": [
       "   train_loss_0  val_loss_0  train_accuracy_0  val_accuracy_0  \\\n",
       "0      6.377833    0.693788         48.717949       48.275862   \n",
       "1      5.700890    0.696578         54.700855       48.275862   \n",
       "2      5.425036    0.704571         62.820513       48.275862   \n",
       "3      4.975713    0.719517         66.239316       48.275862   \n",
       "4      5.192814    0.718537         60.256410       48.275862   \n",
       "\n",
       "   train_pred_proba0  y_train_set_0  val_pred_proba0  y_val_set_0  \\\n",
       "0           0.754949            1.0         0.621844          1.0   \n",
       "1           0.315015            1.0         0.453296          1.0   \n",
       "2           0.908146            1.0         0.490143          1.0   \n",
       "3           0.102976            0.0         0.742321          1.0   \n",
       "4           0.719364            0.0         0.168684          0.0   \n",
       "\n",
       "   best_val_loss_0  best_val_acc_0       ...         train_pred_proba4  \\\n",
       "0         0.682668       55.172414       ...                  0.370317   \n",
       "1              NaN             NaN       ...                  0.263937   \n",
       "2              NaN             NaN       ...                  0.372421   \n",
       "3              NaN             NaN       ...                  0.418550   \n",
       "4              NaN             NaN       ...                  0.234479   \n",
       "\n",
       "   y_train_set_4  val_pred_proba4  y_val_set_4  best_val_loss_4  \\\n",
       "0            0.0         0.136471          0.0         0.561112   \n",
       "1            0.0         0.404537          0.0              NaN   \n",
       "2            0.0         0.797292          1.0              NaN   \n",
       "3            1.0         0.553849          0.0              NaN   \n",
       "4            0.0         0.840233          1.0              NaN   \n",
       "\n",
       "   best_val_acc_4  test_pred_proba4  prediction_test_set_4  y_test_set_4  \\\n",
       "0       65.517241          0.757950                    1.0           1.0   \n",
       "1             NaN          0.494100                    0.0           0.0   \n",
       "2             NaN          0.241051                    0.0           1.0   \n",
       "3             NaN          0.600326                    1.0           1.0   \n",
       "4             NaN          0.404395                    0.0           1.0   \n",
       "\n",
       "   accuracy_test_4  \n",
       "0        53.333333  \n",
       "1              NaN  \n",
       "2              NaN  \n",
       "3              NaN  \n",
       "4              NaN  \n",
       "\n",
       "[5 rows x 70 columns]"
      ]
     },
     "execution_count": 16,
     "metadata": {},
     "output_type": "execute_result"
    }
   ],
   "source": [
    "files = [i for i in files if files_name in i]\n",
    "df = pd.read_csv(f'{path_data}{files[0]}')\n",
    "df.head()"
   ]
  },
  {
   "cell_type": "code",
   "execution_count": 17,
   "metadata": {},
   "outputs": [
    {
     "data": {
      "text/plain": [
       "'results_v2_both_resnet18_lr_1_00E-3_(72.4).csv'"
      ]
     },
     "execution_count": 17,
     "metadata": {},
     "output_type": "execute_result"
    }
   ],
   "source": [
    "# Read all files of interest and find the one with the lowest loss\n",
    "loss = 100\n",
    "loss_per_model = []\n",
    "for f in files:\n",
    "    df = pd.read_csv(f'{path_data}{f}')\n",
    "    loss_per_fold = []\n",
    "    for fold in np.arange(0,5):\n",
    "        loss_per_fold.append(df[f'best_val_loss_{fold}'].values[0])\n",
    "    loss_per_model.append(np.mean(loss_per_fold))\n",
    "    \n",
    "model_best_loss = np.where(loss_per_model == np.min(loss_per_model))[0][0]\n",
    "files[model_best_loss]"
   ]
  },
  {
   "cell_type": "code",
   "execution_count": 18,
   "metadata": {},
   "outputs": [],
   "source": [
    "def compute_ROC_and_AUC(y_true_, probas_):\n",
    "    # Discard the NANs from the dataframe\n",
    "    discard_nans = np.argwhere(np.isnan(y_true_))\n",
    "    if discard_nans.size > 0:\n",
    "        discard_nans = discard_nans[0][0]\n",
    "        y_true_ = y_true_[:discard_nans]\n",
    "        probas_ = probas_[:discard_nans]\n",
    "    # Compute ROC curve and area the curve\n",
    "    fpr, tpr, thresholds = roc_curve(y_true_, probas_)\n",
    "    tpr_interp = interp(mean_fpr, fpr, tpr)\n",
    "#     tpr_interp[-1][0] = 0.0\n",
    "    auc_fold = auc(fpr, tpr)\n",
    "    # Compute accuracy\n",
    "    acc = accuracy_score(y_true_, probas_>.5)\n",
    "    return fpr, tpr, auc_fold, tpr_interp, acc"
   ]
  },
  {
   "cell_type": "code",
   "execution_count": 19,
   "metadata": {},
   "outputs": [],
   "source": [
    "# https://sashat.me/2017/01/11/list-of-20-simple-distinct-colors/\n",
    "#'#e6194b', '#3cb44b', '#ffe119', '#4363d8', '#f58231', '#911eb4', '#46f0f0', '#f032e6', '#bcf60c', '#fabebe', '#008080', '#e6beff', '#9a6324', '#fffac8', '#800000', '#aaffc3', '#808000', '#ffd8b1', '#000075', '#808080', '#ffffff', '#000000'\n",
    "colors = ['#000000', '#4363d8', '#e6194B','#3cb44b', '#ffe119', '#4363d8', '#f58231', '#911eb4', '#46f0f0',  '#fabebe', '#008080', '#e6beff', '#9a6324', '#fffac8', '#800000', '#aaffc3', '#808000', '#ffd8b1', '#000075', '#808080', '#ffffff', ]"
   ]
  },
  {
   "cell_type": "code",
   "execution_count": 20,
   "metadata": {},
   "outputs": [
    {
     "data": {
      "image/png": "[encoded data removed]",
      "text/plain": [
       "<Figure size 720x504 with 1 Axes>"
      ]
     },
     "metadata": {},
     "output_type": "display_data"
    }
   ],
   "source": [
    "# Print the ROCs of the file with the lowest loss\n",
    "aucs_train, aucs_val, aucs_test = [], [], []\n",
    "mean_fpr = np.linspace(0, 1, 100)\n",
    "df = pd.read_csv(f'{path_data}{files[model_best_loss]}')\n",
    "fig, ax = plt.subplots(1,1,figsize=(10,7))\n",
    "tprs_train, tprs_val, tprs_test = [], [], []\n",
    "accs_train, accs_val, accs_test=  [], [], []\n",
    "for fold in np.arange(0,5):\n",
    "    probas_train = df[f'train_pred_proba{fold}'].values\n",
    "    y_true_train = df[f'y_train_set_{fold}'].values\n",
    "    probas_val = df[f'val_pred_proba{fold}'].values\n",
    "    y_true_val = df[f'y_val_set_{fold}'].values\n",
    "    probas_test = df[f'test_pred_proba{fold}'].values\n",
    "    y_true_test = df[f'y_test_set_{fold}'].values\n",
    "    # Compute train ROC curve and area the curve\n",
    "    fpr_train, tpr_train, auc_fold_train, tpr_interp_train, acc_fold_train = compute_ROC_and_AUC(y_true_train, probas_train)\n",
    "    accs_train.append(acc_fold_train)\n",
    "    aucs_train.append(auc_fold_train)\n",
    "    tprs_train.append(tpr_interp_train)\n",
    "    # Compute val ROC curve and area the curve\n",
    "    fpr_val, tpr_val, auc_fold_val, tpr_interp_val, acc_fold_val = compute_ROC_and_AUC(y_true_val, probas_val)\n",
    "    accs_val.append(acc_fold_val)\n",
    "    aucs_val.append(auc_fold_val)\n",
    "    tprs_val.append(tpr_interp_val)\n",
    "    # Compute test ROC curve and area the curve\n",
    "    fpr_test, tpr_test, auc_fold_test, tpr_interp_test, acc_fold_test = compute_ROC_and_AUC(y_true_test, probas_test)\n",
    "    accs_test.append(acc_fold_test)\n",
    "    aucs_test.append(auc_fold_test)\n",
    "    tprs_test.append(tpr_interp_test)\n",
    "    \n",
    "    # For legend\n",
    "    aucs_train_mean = np.mean(aucs_train)\n",
    "    aucs_val_mean = np.mean(aucs_val)\n",
    "    aucs_test_mean = np.mean(aucs_test)\n",
    "    accs_train_mean = np.mean(accs_train)\n",
    "    accs_val_mean = np.mean(accs_val)\n",
    "    accs_test_mean = np.mean(accs_test)\n",
    "    #Plot\n",
    "    ax.plot(fpr_train, tpr_train, c=colors[0], alpha=.1)\n",
    "    ax.plot(fpr_val, tpr_val, c=colors[1], alpha=.1)\n",
    "    ax.plot(fpr_test, tpr_test, c=colors[2], alpha=.1)\n",
    "    \n",
    "mean_tpr_train = np.mean(tprs_train, axis=0)\n",
    "mean_tpr_val = np.mean(tprs_val, axis=0)\n",
    "mean_tpr_test = np.mean(tprs_test, axis=0)\n",
    "ax.plot([],[],label=files_name, linestyle = 'None')\n",
    "ax.plot(mean_fpr, mean_tpr_train, c=colors[0], alpha=1, label = f'train AUC={aucs_train_mean:.2f}')# acc={accs_train_mean:.2f}')\n",
    "ax.plot(mean_fpr, mean_tpr_val, c=colors[1], alpha=1, label = f'val AUC={aucs_val_mean:.2f}')# acc={accs_val_mean:.2f}')\n",
    "ax.plot(mean_fpr, mean_tpr_test, c=colors[2], alpha=1, label = f'test AUC={aucs_test_mean:.2f}')# acc={accs_test_mean:.2f}')\n",
    "ax.legend(fontsize=18, loc= 'lower right')\n",
    "ax.set_xlabel('False Positive Rate')\n",
    "ax.set_ylabel('True Positive Rate')\n",
    "fig.savefig(f'results/roc_best_{files_name}.png')"
   ]
  },
  {
   "cell_type": "code",
   "execution_count": 21,
   "metadata": {},
   "outputs": [
    {
     "data": {
      "text/plain": [
       "333.3333333333333"
      ]
     },
     "execution_count": 21,
     "metadata": {},
     "output_type": "execute_result"
    }
   ],
   "source": [
    "20000/60"
   ]
  },
  {
   "cell_type": "code",
   "execution_count": 22,
   "metadata": {},
   "outputs": [
    {
     "data": {
      "text/plain": [
       "13.875"
      ]
     },
     "execution_count": 22,
     "metadata": {},
     "output_type": "execute_result"
    }
   ],
   "source": [
    "333/24"
   ]
  },
  {
   "cell_type": "code",
   "execution_count": null,
   "metadata": {},
   "outputs": [],
   "source": []
  },
  {
   "cell_type": "code",
   "execution_count": null,
   "metadata": {},
   "outputs": [],
   "source": []
  },
  {
   "cell_type": "code",
   "execution_count": null,
   "metadata": {},
   "outputs": [],
   "source": []
  },
  {
   "cell_type": "code",
   "execution_count": null,
   "metadata": {},
   "outputs": [],
   "source": []
  }
 ],
 "metadata": {
  "kernelspec": {
   "display_name": "Python 3",
   "language": "python",
   "name": "python3"
  },
  "language_info": {
   "codemirror_mode": {
    "name": "ipython",
    "version": 3
   },
   "file_extension": ".py",
   "mimetype": "text/x-python",
   "name": "python",
   "nbconvert_exporter": "python",
   "pygments_lexer": "ipython3",
   "version": "3.6.8"
  },
  "varInspector": {
   "cols": {
    "lenName": 16,
    "lenType": 16,
    "lenVar": 40
   },
   "kernels_config": {
    "python": {
     "delete_cmd_postfix": "",
     "delete_cmd_prefix": "del ",
     "library": "var_list.py",
     "varRefreshCmd": "print(var_dic_list())"
    },
    "r": {
     "delete_cmd_postfix": ") ",
     "delete_cmd_prefix": "rm(",
     "library": "var_list.r",
     "varRefreshCmd": "cat(var_dic_list()) "
    }
   },
   "types_to_exclude": [
    "module",
    "function",
    "builtin_function_or_method",
    "instance",
    "_Feature"
   ],
   "window_display": false
  }
 },
 "nbformat": 4,
 "nbformat_minor": 2
}
